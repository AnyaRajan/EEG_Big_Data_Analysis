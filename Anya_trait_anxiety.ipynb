{
  "nbformat": 4,
  "nbformat_minor": 0,
  "metadata": {
    "colab": {
      "provenance": []
    },
    "kernelspec": {
      "name": "python3",
      "display_name": "Python 3"
    },
    "language_info": {
      "name": "python"
    }
  },
  "cells": [
    {
      "cell_type": "code",
      "execution_count": 3,
      "metadata": {
        "id": "VOWiX5RgMp7t"
      },
      "outputs": [],
      "source": [
        "import pandas as pd\n",
        "\n",
        "df = pd.read_csv(\"/content/Participant_Combined.csv\")\n",
        "from sklearn.preprocessing import LabelEncoder\n",
        "\n",
        "le = LabelEncoder()\n",
        "df['gender_numeric'] = le.fit_transform(df['gender'])\n",
        "df['environment_numeric'] = le.fit_transform(df['environment'])\n",
        "\n",
        "\n",
        "df = df.drop('subject_id', axis=1)\n",
        "df= df.drop('id',axis=1)\n",
        "df= df.drop('unnamed: 0',axis=1)\n",
        "df=df.drop('travel_time',axis=1)\n",
        "df=df.drop('environment',axis=1)\n",
        "df=df.drop('gender',axis=1)\n",
        "# You manually define behavioral columns\n",
        "behavior_columns = ['pre_saa','post_saa','pre_cort','post_cort','total_reward','patch_switching_freq']\n",
        "\n",
        "# The label column\n",
        "label_column = 'trait_anx_level'\n",
        "\n",
        "\n",
        "# Automatically get EEG columns = all columns except behavioral + label\n",
        "eeg_columns = [col for col in df.columns if col not in behavior_columns + [label_column]]\n"
      ]
    },
    {
      "cell_type": "code",
      "source": [
        "non_numeric_cols = df[eeg_columns].select_dtypes(exclude=[\"number\"]).columns\n",
        "print(\"Non-numeric EEG columns:\", list(non_numeric_cols))\n"
      ],
      "metadata": {
        "colab": {
          "base_uri": "https://localhost:8080/"
        },
        "id": "iHag46XVPaeJ",
        "outputId": "fd8a0c05-960a-4570-8d53-eaf5bfb47637"
      },
      "execution_count": 4,
      "outputs": [
        {
          "output_type": "stream",
          "name": "stdout",
          "text": [
            "Non-numeric EEG columns: []\n"
          ]
        }
      ]
    },
    {
      "cell_type": "code",
      "source": [
        "import torch\n",
        "from torch.utils.data import TensorDataset, DataLoader\n",
        "\n",
        "# Convert EEG and Behavioral Data to tensors\n",
        "eeg_data = torch.tensor(df[eeg_columns].values, dtype=torch.float32)\n",
        "behavior_data = torch.tensor(df[behavior_columns].values, dtype=torch.float32)\n",
        "from sklearn.preprocessing import LabelEncoder\n",
        "\n",
        "le = LabelEncoder()\n",
        "df['trait_anx_level'] = le.fit_transform(df['trait_anx_level'])  # overwrite or use a new column if you prefer\n",
        "\n",
        "labels = torch.tensor(df['trait_anx_level'].values, dtype=torch.long)\n"
      ],
      "metadata": {
        "id": "e3YQKlMOQfQ_"
      },
      "execution_count": 5,
      "outputs": []
    },
    {
      "cell_type": "code",
      "source": [
        "from sklearn.model_selection import train_test_split\n",
        "\n",
        "# Convert tensors to numpy for splitting\n",
        "eeg_np = eeg_data.numpy()\n",
        "behavior_np = behavior_data.numpy()\n",
        "labels_np = labels.numpy()\n",
        "\n",
        "# Split\n",
        "eeg_train, eeg_test, behavior_train, behavior_test, labels_train, labels_test = train_test_split(\n",
        "    eeg_np, behavior_np, labels_np, test_size=0.2, random_state=42, stratify=labels_np\n",
        ")\n",
        "\n",
        "# Convert back to tensors\n",
        "eeg_train = torch.tensor(eeg_train, dtype=torch.float32)\n",
        "eeg_test = torch.tensor(eeg_test, dtype=torch.float32)\n",
        "\n",
        "behavior_train = torch.tensor(behavior_train, dtype=torch.float32)\n",
        "behavior_test = torch.tensor(behavior_test, dtype=torch.float32)\n",
        "\n",
        "labels_train = torch.tensor(labels_train, dtype=torch.long)\n",
        "labels_test = torch.tensor(labels_test, dtype=torch.long)\n"
      ],
      "metadata": {
        "id": "DVtOB4h0Rfh5"
      },
      "execution_count": 6,
      "outputs": []
    },
    {
      "cell_type": "code",
      "source": [
        "train_dataset = TensorDataset(eeg_train, behavior_train, labels_train)\n",
        "test_dataset = TensorDataset(eeg_test, behavior_test, labels_test)\n",
        "\n",
        "train_loader = DataLoader(train_dataset, batch_size=32, shuffle=True)\n",
        "test_loader = DataLoader(test_dataset, batch_size=32)\n"
      ],
      "metadata": {
        "id": "F-_9onIoRsNa"
      },
      "execution_count": 7,
      "outputs": []
    },
    {
      "cell_type": "code",
      "source": [
        "import torch\n",
        "import torch.nn as nn\n",
        "import torch.optim as optim\n",
        "from torch.utils.data import TensorDataset, DataLoader\n",
        "from sklearn.model_selection import train_test_split\n",
        "import numpy as np\n",
        "\n",
        "# ===== 1. Data Preparation (assuming you already have these) =====\n",
        "\n",
        "# Convert to NumPy for splitting\n",
        "eeg_np = eeg_data.numpy()\n",
        "behavior_np = behavior_data.numpy()\n",
        "labels_np = labels.numpy()\n",
        "\n",
        "# Split into train and test\n",
        "eeg_train, eeg_test, behavior_train, behavior_test, labels_train, labels_test = train_test_split(\n",
        "    eeg_np, behavior_np, labels_np, test_size=0.2, random_state=42, stratify=labels_np\n",
        ")\n",
        "\n",
        "# Convert back to tensors\n",
        "eeg_train = torch.tensor(eeg_train, dtype=torch.float32)\n",
        "eeg_test = torch.tensor(eeg_test, dtype=torch.float32)\n",
        "\n",
        "behavior_train = torch.tensor(behavior_train, dtype=torch.float32)\n",
        "behavior_test = torch.tensor(behavior_test, dtype=torch.float32)\n",
        "\n",
        "labels_train = torch.tensor(labels_train, dtype=torch.long)\n",
        "labels_test = torch.tensor(labels_test, dtype=torch.long)\n",
        "\n",
        "# DataLoaders\n",
        "train_dataset = TensorDataset(eeg_train, behavior_train, labels_train)\n",
        "test_dataset = TensorDataset(eeg_test, behavior_test, labels_test)\n",
        "\n",
        "train_loader = DataLoader(train_dataset, batch_size=32, shuffle=True)\n",
        "test_loader = DataLoader(test_dataset, batch_size=32)\n",
        "\n",
        "# ===== 2. Define Multi-Branch Model =====\n",
        "\n",
        "eeg_dim = len(eeg_columns)\n",
        "behavior_dim = len(behavior_columns)\n",
        "\n",
        "class MultiBranchEEGBehaviorModel(nn.Module):\n",
        "    def __init__(self, eeg_dim, behavior_dim):\n",
        "        super().__init__()\n",
        "\n",
        "        self.eeg_branch = nn.Sequential(\n",
        "            nn.Linear(eeg_dim, 32),\n",
        "            nn.ReLU(),\n",
        "            nn.Dropout(0.2)\n",
        "        )\n",
        "\n",
        "        self.behavior_branch = nn.Sequential(\n",
        "            nn.Linear(behavior_dim, 16),\n",
        "            nn.ReLU(),\n",
        "            nn.Dropout(0.2)\n",
        "        )\n",
        "\n",
        "        self.classifier = nn.Sequential(\n",
        "            nn.Linear(32 + 16, 32),\n",
        "            nn.ReLU(),\n",
        "            nn.Linear(32, 2)  # 2 classes: stay/leave\n",
        "        )\n",
        "\n",
        "    def forward(self, eeg_input, behavior_input):\n",
        "        eeg_out = self.eeg_branch(eeg_input)\n",
        "        behavior_out = self.behavior_branch(behavior_input)\n",
        "        combined = torch.cat((eeg_out, behavior_out), dim=1)\n",
        "        return self.classifier(combined)\n",
        "\n",
        "# ===== 3. Train the Model =====\n",
        "\n",
        "model = MultiBranchEEGBehaviorModel(eeg_dim, behavior_dim)\n",
        "criterion = nn.CrossEntropyLoss()\n",
        "optimizer = optim.Adam(model.parameters(), lr=0.001)\n",
        "\n",
        "num_epochs = 10\n",
        "\n",
        "for epoch in range(num_epochs):\n",
        "    model.train()\n",
        "    total_loss = 0\n",
        "    correct = 0\n",
        "    total = 0\n",
        "\n",
        "    for eeg_batch, behavior_batch, label_batch in train_loader:\n",
        "        optimizer.zero_grad()\n",
        "        output = model(eeg_batch, behavior_batch)\n",
        "        loss = criterion(output, label_batch)\n",
        "        loss.backward()\n",
        "        optimizer.step()\n",
        "\n",
        "        total_loss += loss.item()\n",
        "        predicted = torch.argmax(output, dim=1)\n",
        "        correct += (predicted == label_batch).sum().item()\n",
        "        total += label_batch.size(0)\n",
        "\n",
        "    accuracy = correct / total * 100\n",
        "    print(f\"Epoch {epoch+1}/{num_epochs} | Loss: {total_loss:.4f} | Accuracy: {accuracy:.2f}%\")\n",
        "\n",
        "# ===== 4. Inference on Test Set =====\n",
        "\n",
        "model.eval()\n",
        "all_preds = []\n",
        "all_labels = []\n",
        "\n",
        "with torch.no_grad():\n",
        "    for eeg_batch, behavior_batch, label_batch in test_loader:\n",
        "        output = model(eeg_batch, behavior_batch)\n",
        "        predicted = torch.argmax(output, dim=1)\n",
        "        all_preds.append(predicted)\n",
        "        all_labels.append(label_batch)\n",
        "\n",
        "# Combine predictions and labels\n",
        "y_pred = torch.cat(all_preds)\n",
        "y_true = torch.cat(all_labels)\n",
        "\n",
        "# Print class distribution\n",
        "print(f\"\\nPredicted class distribution: {torch.bincount(y_pred)}\")\n"
      ],
      "metadata": {
        "colab": {
          "base_uri": "https://localhost:8080/"
        },
        "id": "z6NSbBGRRt_C",
        "outputId": "26795a02-fef5-46a5-dc8b-bfefca67b1b9"
      },
      "execution_count": 10,
      "outputs": [
        {
          "output_type": "stream",
          "name": "stdout",
          "text": [
            "Epoch 1/10 | Loss: 52.3432 | Accuracy: 50.00%\n",
            "Epoch 2/10 | Loss: 21.8098 | Accuracy: 62.50%\n",
            "Epoch 3/10 | Loss: 51.4606 | Accuracy: 46.25%\n",
            "Epoch 4/10 | Loss: 39.9381 | Accuracy: 46.25%\n",
            "Epoch 5/10 | Loss: 43.2914 | Accuracy: 53.75%\n",
            "Epoch 6/10 | Loss: 32.8253 | Accuracy: 51.25%\n",
            "Epoch 7/10 | Loss: 35.9723 | Accuracy: 47.50%\n",
            "Epoch 8/10 | Loss: 21.8807 | Accuracy: 56.25%\n",
            "Epoch 9/10 | Loss: 26.7386 | Accuracy: 58.75%\n",
            "Epoch 10/10 | Loss: 39.3208 | Accuracy: 47.50%\n",
            "\n",
            "Predicted class distribution: tensor([ 0, 20])\n"
          ]
        }
      ]
    },
    {
      "cell_type": "code",
      "source": [
        "with torch.no_grad():\n",
        "    all_preds = []\n",
        "    for eeg_batch, behavior_batch, _ in test_loader:\n",
        "        outputs = model(eeg_batch, behavior_batch)\n",
        "        preds = torch.argmax(outputs, dim=1)\n",
        "        all_preds.append(preds)\n",
        "\n",
        "    predicted_classes = torch.cat(all_preds)\n",
        "\n",
        "# Count predictions\n",
        "counts = torch.bincount(predicted_classes)\n",
        "accuracy = correct / total * 100\n",
        "print(f\"\\nTest Accuracy: {accuracy:.2f}%\")\n",
        "# If you used LabelEncoder, you can map them back:\n",
        "print(f\"Predicted 'leave': {counts[0].item()}\")\n",
        "print(f\"Predicted 'stay' : {counts[1].item()}\")\n"
      ],
      "metadata": {
        "colab": {
          "base_uri": "https://localhost:8080/"
        },
        "id": "6ZOy_ukrRxVz",
        "outputId": "dada06bf-9aa5-4825-9814-02c95619c244"
      },
      "execution_count": 11,
      "outputs": [
        {
          "output_type": "stream",
          "name": "stdout",
          "text": [
            "\n",
            "Test Accuracy: 47.50%\n",
            "Predicted 'leave': 0\n",
            "Predicted 'stay' : 20\n"
          ]
        }
      ]
    },
    {
      "cell_type": "code",
      "source": [],
      "metadata": {
        "id": "oWiLEPXSS-2J"
      },
      "execution_count": null,
      "outputs": []
    }
  ]
}